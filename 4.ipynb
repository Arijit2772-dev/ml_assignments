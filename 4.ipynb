{
 "cells": [
  {
   "cell_type": "code",
   "execution_count": 7,
   "metadata": {},
   "outputs": [
    {
     "name": "stdout",
     "output_type": "stream",
     "text": [
      "--- Loaded 2D data ---\n",
      "Shape: (181, 837)\n",
      "\n",
      "--- Reshaped 3D data ---\n",
      "Shape: (181, 279, 3)\n"
     ]
    }
   ],
   "source": [
    "import numpy as np\n",
    "\n",
    "# 1. Load the data from the text file.\n",
    "loaded_image_2d = np.loadtxt('image.txt', dtype=np.uint8)\n",
    "\n",
    "print(\"--- Loaded 2D data ---\")\n",
    "print(\"Shape:\", loaded_image_2d.shape) \n",
    "\n",
    "# 2. Define the CORRECT original dimensions of your image.\n",
    "original_height = 181  # <-- CORRECTED based on your file\n",
    "original_width = 279   # <-- CORRECTED based on your file\n",
    "num_channels = 3       # <-- This is 3 because it's an RGB image\n",
    "\n",
    "# 3. Reshape the 2D array back into its original 3D shape.\n",
    "# This should now work without an error.\n",
    "loaded_image_3d = loaded_image_2d.reshape(original_height, original_width, num_channels)\n",
    "\n",
    "print(\"\\n--- Reshaped 3D data ---\")\n",
    "print(\"Shape:\", loaded_image_3d.shape)"
   ]
  }
 ],
 "metadata": {
  "kernelspec": {
   "display_name": "Python 3",
   "language": "python",
   "name": "python3"
  },
  "language_info": {
   "codemirror_mode": {
    "name": "ipython",
    "version": 3
   },
   "file_extension": ".py",
   "mimetype": "text/x-python",
   "name": "python",
   "nbconvert_exporter": "python",
   "pygments_lexer": "ipython3",
   "version": "3.13.1"
  }
 },
 "nbformat": 4,
 "nbformat_minor": 2
}
